{
 "cells": [
  {
   "cell_type": "code",
   "execution_count": null,
   "id": "alien-repeat",
   "metadata": {},
   "outputs": [],
   "source": [
    "import os \n",
    "os.chdir(\"D:\\\")"
   ]
  },
  {
   "cell_type": "code",
   "execution_count": 3,
   "id": "sexual-premises",
   "metadata": {},
   "outputs": [],
   "source": [
    "import pandas as pd\n",
    "data = pd.read_csv(\"ibb_data.csv\")"
   ]
  },
  {
   "cell_type": "code",
   "execution_count": 3,
   "id": "separated-naples",
   "metadata": {},
   "outputs": [
    {
     "data": {
      "text/plain": [
       "(199932, 11)"
      ]
     },
     "execution_count": 3,
     "metadata": {},
     "output_type": "execute_result"
    }
   ],
   "source": [
    "data.shape"
   ]
  },
  {
   "cell_type": "code",
   "execution_count": 4,
   "id": "exotic-commissioner",
   "metadata": {},
   "outputs": [
    {
     "data": {
      "text/html": [
       "<div>\n",
       "<style scoped>\n",
       "    .dataframe tbody tr th:only-of-type {\n",
       "        vertical-align: middle;\n",
       "    }\n",
       "\n",
       "    .dataframe tbody tr th {\n",
       "        vertical-align: top;\n",
       "    }\n",
       "\n",
       "    .dataframe thead th {\n",
       "        text-align: right;\n",
       "    }\n",
       "</style>\n",
       "<table border=\"1\" class=\"dataframe\">\n",
       "  <thead>\n",
       "    <tr style=\"text-align: right;\">\n",
       "      <th></th>\n",
       "      <th>ORG_TICKET_ID</th>\n",
       "      <th>TICKET_DESC</th>\n",
       "      <th>SR_AREA</th>\n",
       "      <th>SR_SUB_AREA</th>\n",
       "      <th>SR_SUBTYPE_CD</th>\n",
       "      <th>X_IBB_COUNTY</th>\n",
       "      <th>X_IBB_NEIGHBOURHOOD</th>\n",
       "      <th>preProcessing</th>\n",
       "      <th>totalwords</th>\n",
       "      <th>lang</th>\n",
       "      <th>clean_new</th>\n",
       "    </tr>\n",
       "  </thead>\n",
       "  <tbody>\n",
       "    <tr>\n",
       "      <th>0</th>\n",
       "      <td>1-34788228164</td>\n",
       "      <td>\\n\\n\\nADRES        :  HEYBELİADA \\n\\nKONU :\\n1...</td>\n",
       "      <td>EKSİK - DETAY BİLGİ</td>\n",
       "      <td>EKSİK - DETAY BİLGİ</td>\n",
       "      <td>Mobil İletişim And. 1.Bölge</td>\n",
       "      <td>ADALAR</td>\n",
       "      <td>HEYBELİADA</td>\n",
       "      <td>adres heybeliada konu heybeli ada ıskele önund...</td>\n",
       "      <td>56</td>\n",
       "      <td>tr</td>\n",
       "      <td>adres heybeliada konu heybeli ada iskele ön ca...</td>\n",
       "    </tr>\n",
       "    <tr>\n",
       "      <th>1</th>\n",
       "      <td>1-35460514640</td>\n",
       "      <td>İşe gidiş ve dönüş saatleri için Eminönüne sef...</td>\n",
       "      <td>ŞEHİR HATLARI SEFER HİZMETLERİ</td>\n",
       "      <td>HAT TALEPLERİ</td>\n",
       "      <td>Telefon</td>\n",
       "      <td>ADALAR</td>\n",
       "      <td>HEYBELİADA</td>\n",
       "      <td>işe gidiş dönüş saatleri eminönüne sefer talep...</td>\n",
       "      <td>16</td>\n",
       "      <td>tr</td>\n",
       "      <td>iş git dönüş saat eminönü sefer talep et bir v...</td>\n",
       "    </tr>\n",
       "    <tr>\n",
       "      <th>2</th>\n",
       "      <td>1-33993853508</td>\n",
       "      <td>ADALARDA YAPILAN OTOBÜS HATLARIYLA İLGİLİ KULL...</td>\n",
       "      <td>FAYTON</td>\n",
       "      <td>FAYTONLA ULAŞIM YAPILMASI</td>\n",
       "      <td>Telefon</td>\n",
       "      <td>ADALAR</td>\n",
       "      <td>NaN</td>\n",
       "      <td>adalarda yapılan otobüs hatlarıyla ilgili kull...</td>\n",
       "      <td>33</td>\n",
       "      <td>tr</td>\n",
       "      <td>adalar yap otobüs hat ilgili kullanım mevcut f...</td>\n",
       "    </tr>\n",
       "    <tr>\n",
       "      <th>3</th>\n",
       "      <td>1-31556148173</td>\n",
       "      <td>Adalar maden mahallesi çınar caddesi numaralar...</td>\n",
       "      <td>KARARLAR</td>\n",
       "      <td>CADDE / SOKAK İSİM VE LEVHA</td>\n",
       "      <td>Muhtar Mobil</td>\n",
       "      <td>ADALAR</td>\n",
       "      <td>MADEN</td>\n",
       "      <td>adalar maden mahallesi çınar caddesi numaralar...</td>\n",
       "      <td>20</td>\n",
       "      <td>tr</td>\n",
       "      <td>adalar maden mahallesi çınar caddesi numara de...</td>\n",
       "    </tr>\n",
       "    <tr>\n",
       "      <th>4</th>\n",
       "      <td>1-31146267834</td>\n",
       "      <td>Adalar belediyesinin üzerine düşen görevleri y...</td>\n",
       "      <td>İLÇE PARK BAHÇELER</td>\n",
       "      <td>PARK BAHÇELER</td>\n",
       "      <td>Web</td>\n",
       "      <td>ADALAR</td>\n",
       "      <td>BURGAZADA</td>\n",
       "      <td>adalar belediyesinin üzerine düşen görevleri y...</td>\n",
       "      <td>51</td>\n",
       "      <td>tr</td>\n",
       "      <td>adalar belediye üzeri düş görev yer getirme ad...</td>\n",
       "    </tr>\n",
       "  </tbody>\n",
       "</table>\n",
       "</div>"
      ],
      "text/plain": [
       "   ORG_TICKET_ID                                        TICKET_DESC  \\\n",
       "0  1-34788228164  \\n\\n\\nADRES        :  HEYBELİADA \\n\\nKONU :\\n1...   \n",
       "1  1-35460514640  İşe gidiş ve dönüş saatleri için Eminönüne sef...   \n",
       "2  1-33993853508  ADALARDA YAPILAN OTOBÜS HATLARIYLA İLGİLİ KULL...   \n",
       "3  1-31556148173  Adalar maden mahallesi çınar caddesi numaralar...   \n",
       "4  1-31146267834  Adalar belediyesinin üzerine düşen görevleri y...   \n",
       "\n",
       "                          SR_AREA                  SR_SUB_AREA  \\\n",
       "0             EKSİK - DETAY BİLGİ          EKSİK - DETAY BİLGİ   \n",
       "1  ŞEHİR HATLARI SEFER HİZMETLERİ                HAT TALEPLERİ   \n",
       "2                          FAYTON    FAYTONLA ULAŞIM YAPILMASI   \n",
       "3                        KARARLAR  CADDE / SOKAK İSİM VE LEVHA   \n",
       "4              İLÇE PARK BAHÇELER                PARK BAHÇELER   \n",
       "\n",
       "                 SR_SUBTYPE_CD X_IBB_COUNTY X_IBB_NEIGHBOURHOOD  \\\n",
       "0  Mobil İletişim And. 1.Bölge       ADALAR          HEYBELİADA   \n",
       "1                      Telefon       ADALAR          HEYBELİADA   \n",
       "2                      Telefon       ADALAR                 NaN   \n",
       "3                 Muhtar Mobil       ADALAR               MADEN   \n",
       "4                          Web       ADALAR           BURGAZADA   \n",
       "\n",
       "                                       preProcessing  totalwords lang  \\\n",
       "0  adres heybeliada konu heybeli ada ıskele önund...          56   tr   \n",
       "1  işe gidiş dönüş saatleri eminönüne sefer talep...          16   tr   \n",
       "2  adalarda yapılan otobüs hatlarıyla ilgili kull...          33   tr   \n",
       "3  adalar maden mahallesi çınar caddesi numaralar...          20   tr   \n",
       "4  adalar belediyesinin üzerine düşen görevleri y...          51   tr   \n",
       "\n",
       "                                           clean_new  \n",
       "0  adres heybeliada konu heybeli ada iskele ön ca...  \n",
       "1  iş git dönüş saat eminönü sefer talep et bir v...  \n",
       "2  adalar yap otobüs hat ilgili kullanım mevcut f...  \n",
       "3  adalar maden mahallesi çınar caddesi numara de...  \n",
       "4  adalar belediye üzeri düş görev yer getirme ad...  "
      ]
     },
     "execution_count": 4,
     "metadata": {},
     "output_type": "execute_result"
    }
   ],
   "source": [
    "data.head()"
   ]
  },
  {
   "cell_type": "markdown",
   "id": "saving-equilibrium",
   "metadata": {},
   "source": [
    "# Gensim ve Word2Vec"
   ]
  },
  {
   "cell_type": "code",
   "execution_count": 59,
   "id": "suspected-recall",
   "metadata": {},
   "outputs": [
    {
     "name": "stderr",
     "output_type": "stream",
     "text": [
      "IOPub data rate exceeded.\n",
      "The notebook server will temporarily stop sending output\n",
      "to the client in order to avoid crashing it.\n",
      "To change this limit, set the config variable\n",
      "`--NotebookApp.iopub_data_rate_limit`.\n",
      "\n",
      "Current values:\n",
      "NotebookApp.iopub_data_rate_limit=1000000.0 (bytes/sec)\n",
      "NotebookApp.rate_limit_window=3.0 (secs)\n",
      "\n"
     ]
    }
   ],
   "source": [
    "words = [word.split() for word in data[\"clean_new\"]]\n",
    "print(words)"
   ]
  },
  {
   "cell_type": "code",
   "execution_count": 6,
   "id": "desperate-austin",
   "metadata": {},
   "outputs": [],
   "source": [
    "import gensim"
   ]
  },
  {
   "cell_type": "code",
   "execution_count": 25,
   "id": "going-spanking",
   "metadata": {},
   "outputs": [],
   "source": [
    "#Bag of Words ile, 250 boyutlu, 5 kereden daha fazla geçen kelimelerin, 3 kelime önce ve sonrası\n",
    "w2v_model = gensim.models.Word2Vec(words, size = 256, min_count=10, window=3)"
   ]
  },
  {
   "cell_type": "code",
   "execution_count": 26,
   "id": "compliant-connection",
   "metadata": {},
   "outputs": [],
   "source": [
    "# bunu çalıştırmasan da olur\n",
    "#vocabulary_of_w2v_model = list(w2v_model.wv.vocab.items())\n",
    "#print(vocabulary_of_w2v_model)"
   ]
  },
  {
   "cell_type": "code",
   "execution_count": 27,
   "id": "worth-initial",
   "metadata": {},
   "outputs": [
    {
     "name": "stderr",
     "output_type": "stream",
     "text": [
      "<ipython-input-27-6a3b1b9ac130>:1: DeprecationWarning: Call to deprecated `most_similar` (Method will be removed in 4.0.0, use self.wv.most_similar() instead).\n",
      "  w2v_model.most_similar(\"mesela\", topn=15)\n"
     ]
    },
    {
     "data": {
      "text/plain": [
       "[('kavram', 0.6064212322235107),\n",
       " ('mantık', 0.6023968458175659),\n",
       " ('dimi', 0.5916260480880737),\n",
       " ('metrobuslerde', 0.588105320930481),\n",
       " ('tarihi', 0.5791565179824829),\n",
       " ('mesele', 0.5788992643356323),\n",
       " ('tıklımdı', 0.5732263922691345),\n",
       " ('l', 0.5730617046356201),\n",
       " ('peki', 0.5718985795974731),\n",
       " ('riayet', 0.562380313873291),\n",
       " ('espresso', 0.5604478120803833),\n",
       " ('pes', 0.5592375993728638),\n",
       " ('vagonlu', 0.5577795505523682),\n",
       " ('buyru', 0.555778443813324),\n",
       " ('bike', 0.5529454946517944)]"
      ]
     },
     "execution_count": 27,
     "metadata": {},
     "output_type": "execute_result"
    }
   ],
   "source": [
    "w2v_model.most_similar(\"mesela\", topn=15)"
   ]
  },
  {
   "cell_type": "markdown",
   "id": "level-jamaica",
   "metadata": {},
   "source": [
    "# K-means clustering"
   ]
  },
  {
   "cell_type": "code",
   "execution_count": 24,
   "id": "general-lotus",
   "metadata": {},
   "outputs": [],
   "source": [
    "from sklearn.cluster import KMeans"
   ]
  },
  {
   "cell_type": "code",
   "execution_count": 29,
   "id": "recreational-valuable",
   "metadata": {},
   "outputs": [],
   "source": [
    "km_model = KMeans(n_clusters=5, max_iter=1000, n_init=50)"
   ]
  },
  {
   "cell_type": "code",
   "execution_count": 30,
   "id": "alleged-novelty",
   "metadata": {},
   "outputs": [],
   "source": [
    "w2v_vectors = w2v_model.wv.vectors"
   ]
  },
  {
   "cell_type": "code",
   "execution_count": 31,
   "id": "assisted-longitude",
   "metadata": {},
   "outputs": [
    {
     "data": {
      "text/plain": [
       "KMeans(max_iter=1000, n_clusters=5, n_init=50)"
      ]
     },
     "execution_count": 31,
     "metadata": {},
     "output_type": "execute_result"
    }
   ],
   "source": [
    "km_model.fit(X=w2v_vectors)"
   ]
  },
  {
   "cell_type": "code",
   "execution_count": 32,
   "id": "cloudy-shadow",
   "metadata": {
    "scrolled": true
   },
   "outputs": [
    {
     "data": {
      "text/plain": [
       "array([[-0.1743826 , -0.01879728, -0.11447869, ...,  0.20604567,\n",
       "        -0.14675367,  0.01652478],\n",
       "       [-0.04620121, -0.00769661, -0.1218724 , ...,  0.23643823,\n",
       "        -0.05287747, -0.06208257],\n",
       "       [-0.00472266,  0.07225591, -0.10937402, ...,  0.17767431,\n",
       "        -0.01491485, -0.0533271 ],\n",
       "       [-0.05066736, -0.07982841, -0.06882866, ...,  0.22208071,\n",
       "        -0.15579586, -0.00933311],\n",
       "       [-0.0364007 , -0.0453999 , -0.08318036, ...,  0.18393378,\n",
       "        -0.19084266, -0.02989684]], dtype=float32)"
      ]
     },
     "execution_count": 32,
     "metadata": {},
     "output_type": "execute_result"
    }
   ],
   "source": [
    "km_model.cluster_centers_"
   ]
  },
  {
   "cell_type": "code",
   "execution_count": 33,
   "id": "complete-trademark",
   "metadata": {
    "scrolled": false
   },
   "outputs": [
    {
     "name": "stderr",
     "output_type": "stream",
     "text": [
      "<ipython-input-33-35c88cf08865>:2: DeprecationWarning: Call to deprecated `similar_by_vector` (Method will be removed in 4.0.0, use self.wv.similar_by_vector() instead).\n",
      "  w2v_model.similar_by_vector(km_model.cluster_centers_[0], topn=25, restrict_vocab=None)\n"
     ]
    },
    {
     "data": {
      "text/plain": [
       "[('uydukent', 0.9413530230522156),\n",
       " ('talimhane', 0.9379655718803406),\n",
       " ('karakutu', 0.9271396398544312),\n",
       " ('keyini', 0.9263951182365417),\n",
       " ('topak', 0.9222028851509094),\n",
       " ('alaçatı', 0.9199303388595581),\n",
       " ('monako', 0.919371485710144),\n",
       " ('nişangah', 0.9186265468597412),\n",
       " ('rumelifeneri', 0.9179848432540894),\n",
       " ('koşullu', 0.916930079460144),\n",
       " ('yeldeğirmeni', 0.9147658944129944),\n",
       " ('altınyıldız', 0.9115120768547058),\n",
       " ('akbatu', 0.9113783240318298),\n",
       " ('adapte', 0.9101548194885254),\n",
       " ('optimum', 0.910110354423523),\n",
       " ('viaport', 0.9079424738883972),\n",
       " ('marmarapark', 0.9069262742996216),\n",
       " ('ardıçlıevler', 0.9056236147880554),\n",
       " ('nurtepe', 0.9055894613265991),\n",
       " ('buzhane', 0.9054926633834839),\n",
       " ('kuşkonmaz', 0.9049890637397766),\n",
       " ('şekerpınar', 0.9043858051300049),\n",
       " ('alke', 0.9033815860748291),\n",
       " ('çukurçeşme', 0.9017496109008789),\n",
       " ('nenehatun', 0.9013782739639282)]"
      ]
     },
     "execution_count": 33,
     "metadata": {},
     "output_type": "execute_result"
    }
   ],
   "source": [
    "#birinci cluster'a en yakın 10 kelime\n",
    "w2v_model.similar_by_vector(km_model.cluster_centers_[0], topn=25, restrict_vocab=None)"
   ]
  },
  {
   "cell_type": "code",
   "execution_count": 34,
   "id": "iraqi-giving",
   "metadata": {},
   "outputs": [
    {
     "name": "stderr",
     "output_type": "stream",
     "text": [
      "<ipython-input-34-5a3da06692cd>:2: DeprecationWarning: Call to deprecated `similar_by_vector` (Method will be removed in 4.0.0, use self.wv.similar_by_vector() instead).\n",
      "  w2v_model.similar_by_vector(km_model.cluster_centers_[1], topn=25, restrict_vocab=None)\n"
     ]
    },
    {
     "data": {
      "text/plain": [
       "[('sunta', 0.8964663147926331),\n",
       " ('talaş', 0.892885684967041),\n",
       " ('mekruh', 0.8655331134796143),\n",
       " ('parmaklık', 0.863849401473999),\n",
       " ('pıs', 0.8634582757949829),\n",
       " ('alçı', 0.8610329627990723),\n",
       " ('çıkıntı', 0.8574414849281311),\n",
       " ('eşek', 0.8561070561408997),\n",
       " ('yuvarla', 0.8556066751480103),\n",
       " ('sulama', 0.8540078401565552),\n",
       " ('sulu', 0.8539180755615234),\n",
       " ('dercedilmiş', 0.852031946182251),\n",
       " ('konvoy', 0.8505640029907227),\n",
       " ('muhtelif', 0.846605658531189),\n",
       " ('tenha', 0.8441611528396606),\n",
       " ('sarkıt', 0.8440079689025879),\n",
       " ('kusmuk', 0.8439089059829712),\n",
       " ('taht', 0.8415169715881348),\n",
       " ('barikat', 0.841455340385437),\n",
       " ('saz', 0.840877890586853),\n",
       " ('paslan', 0.8405479192733765),\n",
       " ('kabuk', 0.8378097414970398),\n",
       " ('testere', 0.8356441259384155),\n",
       " ('asfaltsız', 0.8352559804916382),\n",
       " ('çökme', 0.8348010182380676)]"
      ]
     },
     "execution_count": 34,
     "metadata": {},
     "output_type": "execute_result"
    }
   ],
   "source": [
    "#ikinici cluster'a en yakın 10 kelime\n",
    "w2v_model.similar_by_vector(km_model.cluster_centers_[1], topn=25, restrict_vocab=None)"
   ]
  },
  {
   "cell_type": "code",
   "execution_count": 35,
   "id": "mechanical-safety",
   "metadata": {},
   "outputs": [
    {
     "name": "stderr",
     "output_type": "stream",
     "text": [
      "<ipython-input-35-3066f8e66000>:2: DeprecationWarning: Call to deprecated `similar_by_vector` (Method will be removed in 4.0.0, use self.wv.similar_by_vector() instead).\n",
      "  w2v_model.similar_by_vector(km_model.cluster_centers_[2], topn=25, restrict_vocab=None)\n"
     ]
    },
    {
     "data": {
      "text/plain": [
       "[('talat', 0.9409626722335815),\n",
       " ('uysal', 0.9404706954956055),\n",
       " ('iettbayrak', 0.9402278065681458),\n",
       " ('alparslan', 0.9391646981239319),\n",
       " ('seyid', 0.935156524181366),\n",
       " ('naşit', 0.9347733855247498),\n",
       " ('ezel', 0.9346045851707458),\n",
       " ('bestekar', 0.9341840147972107),\n",
       " ('uygur', 0.933793306350708),\n",
       " ('mihriban', 0.9319195747375488),\n",
       " ('tülin', 0.9291466474533081),\n",
       " ('özmen', 0.9279005527496338),\n",
       " ('adile', 0.9277584552764893),\n",
       " ('gümüşhane', 0.9277567863464355),\n",
       " ('özalp', 0.9267444610595703),\n",
       " ('sultantepe', 0.9267231225967407),\n",
       " ('semih', 0.9265117645263672),\n",
       " ('kabaklı', 0.9235644340515137),\n",
       " ('peker', 0.922283411026001),\n",
       " ('hulusi', 0.9214751720428467),\n",
       " ('nene', 0.9214290380477905),\n",
       " ('akça', 0.920814037322998),\n",
       " ('akkaya', 0.9172056913375854),\n",
       " ('kadırga', 0.9171544313430786),\n",
       " ('halaskargazi', 0.9160920977592468)]"
      ]
     },
     "execution_count": 35,
     "metadata": {},
     "output_type": "execute_result"
    }
   ],
   "source": [
    "#ikinici cluster'a en yakın 10 kelime\n",
    "w2v_model.similar_by_vector(km_model.cluster_centers_[2], topn=25, restrict_vocab=None)"
   ]
  },
  {
   "cell_type": "code",
   "execution_count": 36,
   "id": "incorrect-perception",
   "metadata": {},
   "outputs": [
    {
     "name": "stderr",
     "output_type": "stream",
     "text": [
      "<ipython-input-36-a59af8debbdb>:2: DeprecationWarning: Call to deprecated `similar_by_vector` (Method will be removed in 4.0.0, use self.wv.similar_by_vector() instead).\n",
      "  w2v_model.similar_by_vector(km_model.cluster_centers_[3], topn=25, restrict_vocab=None)\n"
     ]
    },
    {
     "data": {
      "text/plain": [
       "[('dalgın', 0.8665345907211304),\n",
       " ('değme', 0.8591612577438354),\n",
       " ('anlayışlı', 0.8589837551116943),\n",
       " ('arbede', 0.8555882573127747),\n",
       " ('önemsema', 0.8540812730789185),\n",
       " ('diyin', 0.8538942337036133),\n",
       " ('vahim', 0.851271390914917),\n",
       " ('şerefsiz', 0.8502939939498901),\n",
       " ('sorumsız', 0.847193717956543),\n",
       " ('bunca', 0.8465176820755005),\n",
       " ('sızı', 0.8462520837783813),\n",
       " ('gerçi', 0.8461122512817383),\n",
       " ('alındı', 0.8432831764221191),\n",
       " ('daim', 0.8415541648864746),\n",
       " ('önemseme', 0.8397413492202759),\n",
       " ('suçlu', 0.8394750356674194),\n",
       " ('vaki', 0.838164210319519),\n",
       " ('yanlı', 0.837965726852417),\n",
       " ('zevk', 0.8345716595649719),\n",
       " ('sebepsiz', 0.8339129686355591),\n",
       " ('zulüm', 0.8331221342086792),\n",
       " ('defol', 0.8308907747268677),\n",
       " ('sıkayetcı', 0.8306030035018921),\n",
       " ('ula', 0.8304123878479004),\n",
       " ('sırala', 0.8289484977722168)]"
      ]
     },
     "execution_count": 36,
     "metadata": {},
     "output_type": "execute_result"
    }
   ],
   "source": [
    "#ikinici cluster'a en yakın 10 kelime\n",
    "w2v_model.similar_by_vector(km_model.cluster_centers_[3], topn=25, restrict_vocab=None)"
   ]
  },
  {
   "cell_type": "code",
   "execution_count": 37,
   "id": "dental-duncan",
   "metadata": {},
   "outputs": [
    {
     "name": "stderr",
     "output_type": "stream",
     "text": [
      "<ipython-input-37-c61af60f9561>:2: DeprecationWarning: Call to deprecated `similar_by_vector` (Method will be removed in 4.0.0, use self.wv.similar_by_vector() instead).\n",
      "  w2v_model.similar_by_vector(km_model.cluster_centers_[4], topn=25, restrict_vocab=None)\n"
     ]
    },
    {
     "data": {
      "text/plain": [
       "[('basur', 0.8861607313156128),\n",
       " ('bili', 0.8541551232337952),\n",
       " ('öç', 0.8519554734230042),\n",
       " ('mühim', 0.8486981987953186),\n",
       " ('sözleş', 0.8454754948616028),\n",
       " ('askıdafatura', 0.8405461311340332),\n",
       " ('taklit', 0.8390271663665771),\n",
       " ('ayin', 0.8383980393409729),\n",
       " ('sunu', 0.8375591039657593),\n",
       " ('ekstre', 0.836866021156311),\n",
       " ('iyigün', 0.836005687713623),\n",
       " ('başvurulu', 0.8329751491546631),\n",
       " ('aktifme', 0.8288200497627258),\n",
       " ('seci', 0.8281835913658142),\n",
       " ('cevabi', 0.8281323909759521),\n",
       " ('kişime', 0.8277691006660461),\n",
       " ('rahim', 0.8277209401130676),\n",
       " ('sorgulama', 0.8242924213409424),\n",
       " ('kontur', 0.8227672576904297),\n",
       " ('öğrenma', 0.8226035237312317),\n",
       " ('yönlenma', 0.8210197687149048),\n",
       " ('bakı', 0.8198291063308716),\n",
       " ('geridönüş', 0.8191761374473572),\n",
       " ('gönderi', 0.81833815574646),\n",
       " ('oyla', 0.8160693645477295)]"
      ]
     },
     "execution_count": 37,
     "metadata": {},
     "output_type": "execute_result"
    }
   ],
   "source": [
    "#ikinici cluster'a en yakın 10 kelime\n",
    "w2v_model.similar_by_vector(km_model.cluster_centers_[4], topn=25, restrict_vocab=None)"
   ]
  },
  {
   "cell_type": "code",
   "execution_count": 26,
   "id": "breathing-margin",
   "metadata": {},
   "outputs": [],
   "source": [
    "import matplotlib.pyplot as plt"
   ]
  },
  {
   "cell_type": "code",
   "execution_count": 39,
   "id": "nuclear-apple",
   "metadata": {},
   "outputs": [
    {
     "data": {
      "image/png": "[encoded data removed]",
      "text/plain": [
       "<Figure size 432x288 with 1 Axes>"
      ]
     },
     "metadata": {
      "needs_background": "light"
     },
     "output_type": "display_data"
    }
   ],
   "source": [
    "#görselleme\n",
    "y_kmeans = km_model.predict(w2v_vectors)\n",
    "\n",
    "plt.scatter(w2v_vectors[:, 0], w2v_vectors[:, 1], c=y_kmeans, s=50, cmap='viridis')\n",
    "\n",
    "centers = km_model.cluster_centers_\n",
    "plt.scatter(centers[:, 0], centers[:, 1], c='black', s=200, alpha=0.5);"
   ]
  },
  {
   "cell_type": "code",
   "execution_count": 40,
   "id": "ignored-hanging",
   "metadata": {},
   "outputs": [
    {
     "data": {
      "text/plain": [
       "36110.85546875"
      ]
     },
     "execution_count": 40,
     "metadata": {},
     "output_type": "execute_result"
    }
   ],
   "source": [
    "km_model.inertia_"
   ]
  },
  {
   "cell_type": "code",
   "execution_count": 32,
   "id": "seventh-traveler",
   "metadata": {},
   "outputs": [
    {
     "data": {
      "image/png": "[encoded data removed]",
      "text/plain": [
       "<Figure size 432x288 with 1 Axes>"
      ]
     },
     "metadata": {
      "needs_background": "light"
     },
     "output_type": "display_data"
    }
   ],
   "source": [
    "num_clusters = list(range(1,9))\n",
    "inertias = []\n",
    "\n",
    "for k in num_clusters:\n",
    "  model = KMeans(n_clusters=k)\n",
    "  model.fit(w2v_vectors)\n",
    "  inertias.append(model.inertia_)\n",
    "\n",
    "plt.plot(num_clusters, inertias, '-o')\n",
    " \n",
    "plt.xlabel('Number of Clusters (k)')\n",
    "plt.ylabel('Inertia')\n",
    " \n",
    "plt.show()"
   ]
  },
  {
   "cell_type": "code",
   "execution_count": null,
   "id": "korean-canada",
   "metadata": {},
   "outputs": [],
   "source": []
  }
 ],
 "metadata": {
  "kernelspec": {
   "display_name": "Python 3",
   "language": "python",
   "name": "python3"
  },
  "language_info": {
   "codemirror_mode": {
    "name": "ipython",
    "version": 3
   },
   "file_extension": ".py",
   "mimetype": "text/x-python",
   "name": "python",
   "nbconvert_exporter": "python",
   "pygments_lexer": "ipython3",
   "version": "3.8.5"
  },
  "varInspector": {
   "cols": {
    "lenName": 16,
    "lenType": 16,
    "lenVar": 40
   },
   "kernels_config": {
    "python": {
     "delete_cmd_postfix": "",
     "delete_cmd_prefix": "del ",
     "library": "var_list.py",
     "varRefreshCmd": "print(var_dic_list())"
    },
    "r": {
     "delete_cmd_postfix": ") ",
     "delete_cmd_prefix": "rm(",
     "library": "var_list.r",
     "varRefreshCmd": "cat(var_dic_list()) "
    }
   },
   "types_to_exclude": [
    "module",
    "function",
    "builtin_function_or_method",
    "instance",
    "_Feature"
   ],
   "window_display": false
  }
 },
 "nbformat": 4,
 "nbformat_minor": 5
}
